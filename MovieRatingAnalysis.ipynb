{
 "cells": [
  {
   "cell_type": "code",
   "execution_count": 2,
   "id": "7f309b1f-4f2c-43d1-b8ae-3030d5af3edd",
   "metadata": {},
   "outputs": [],
   "source": [
    "# import library\n",
    "import pandas as pd\n",
    "import numpy as np\n",
    "import matplotlib.pyplot as plt\n",
    "import seaborn as sns\n",
    "import ast\n",
    "from wordcloud import WordCloud\n"
   ]
  },
  {
   "cell_type": "code",
   "execution_count": 18,
   "id": "d905feb2-3386-4196-ab6b-de3ad9047d6c",
   "metadata": {},
   "outputs": [],
   "source": [
    "# Step 1: Load both datasets\n",
    "movies_df = pd.read_csv('D:/data_analyst/AnalyticsProjects/projects/movie_dashboard_views/tmdb_5000_movies.csv')\n",
    "credits_df = pd.read_csv('D:/data_analyst/AnalyticsProjects/projects/movie_dashboard_views/tmdb_5000_credits.csv')"
   ]
  },
  {
   "cell_type": "code",
   "execution_count": 19,
   "id": "e55fcab4-3fc2-409c-b011-da601a521622",
   "metadata": {},
   "outputs": [
    {
     "name": "stdout",
     "output_type": "stream",
     "text": [
      "(4803, 20)\n",
      "Index(['budget', 'genres', 'homepage', 'id', 'keywords', 'original_language',\n",
      "       'original_title', 'overview', 'popularity', 'production_companies',\n",
      "       'production_countries', 'release_date', 'revenue', 'runtime',\n",
      "       'spoken_languages', 'status', 'tagline', 'title', 'vote_average',\n",
      "       'vote_count'],\n",
      "      dtype='object')\n"
     ]
    },
    {
     "data": {
      "text/html": [
       "<div>\n",
       "<style scoped>\n",
       "    .dataframe tbody tr th:only-of-type {\n",
       "        vertical-align: middle;\n",
       "    }\n",
       "\n",
       "    .dataframe tbody tr th {\n",
       "        vertical-align: top;\n",
       "    }\n",
       "\n",
       "    .dataframe thead th {\n",
       "        text-align: right;\n",
       "    }\n",
       "</style>\n",
       "<table border=\"1\" class=\"dataframe\">\n",
       "  <thead>\n",
       "    <tr style=\"text-align: right;\">\n",
       "      <th></th>\n",
       "      <th>budget</th>\n",
       "      <th>genres</th>\n",
       "      <th>homepage</th>\n",
       "      <th>id</th>\n",
       "      <th>keywords</th>\n",
       "      <th>original_language</th>\n",
       "      <th>original_title</th>\n",
       "      <th>overview</th>\n",
       "      <th>popularity</th>\n",
       "      <th>production_companies</th>\n",
       "      <th>production_countries</th>\n",
       "      <th>release_date</th>\n",
       "      <th>revenue</th>\n",
       "      <th>runtime</th>\n",
       "      <th>spoken_languages</th>\n",
       "      <th>status</th>\n",
       "      <th>tagline</th>\n",
       "      <th>title</th>\n",
       "      <th>vote_average</th>\n",
       "      <th>vote_count</th>\n",
       "    </tr>\n",
       "  </thead>\n",
       "  <tbody>\n",
       "    <tr>\n",
       "      <th>0</th>\n",
       "      <td>237000000</td>\n",
       "      <td>[{\"id\": 28, \"name\": \"Action\"}, {\"id\": 12, \"nam...</td>\n",
       "      <td>http://www.avatarmovie.com/</td>\n",
       "      <td>19995</td>\n",
       "      <td>[{\"id\": 1463, \"name\": \"culture clash\"}, {\"id\":...</td>\n",
       "      <td>en</td>\n",
       "      <td>Avatar</td>\n",
       "      <td>In the 22nd century, a paraplegic Marine is di...</td>\n",
       "      <td>150.437577</td>\n",
       "      <td>[{\"name\": \"Ingenious Film Partners\", \"id\": 289...</td>\n",
       "      <td>[{\"iso_3166_1\": \"US\", \"name\": \"United States o...</td>\n",
       "      <td>2009-12-10</td>\n",
       "      <td>2787965087</td>\n",
       "      <td>162.0</td>\n",
       "      <td>[{\"iso_639_1\": \"en\", \"name\": \"English\"}, {\"iso...</td>\n",
       "      <td>Released</td>\n",
       "      <td>Enter the World of Pandora.</td>\n",
       "      <td>Avatar</td>\n",
       "      <td>7.2</td>\n",
       "      <td>11800</td>\n",
       "    </tr>\n",
       "    <tr>\n",
       "      <th>1</th>\n",
       "      <td>300000000</td>\n",
       "      <td>[{\"id\": 12, \"name\": \"Adventure\"}, {\"id\": 14, \"...</td>\n",
       "      <td>http://disney.go.com/disneypictures/pirates/</td>\n",
       "      <td>285</td>\n",
       "      <td>[{\"id\": 270, \"name\": \"ocean\"}, {\"id\": 726, \"na...</td>\n",
       "      <td>en</td>\n",
       "      <td>Pirates of the Caribbean: At World's End</td>\n",
       "      <td>Captain Barbossa, long believed to be dead, ha...</td>\n",
       "      <td>139.082615</td>\n",
       "      <td>[{\"name\": \"Walt Disney Pictures\", \"id\": 2}, {\"...</td>\n",
       "      <td>[{\"iso_3166_1\": \"US\", \"name\": \"United States o...</td>\n",
       "      <td>2007-05-19</td>\n",
       "      <td>961000000</td>\n",
       "      <td>169.0</td>\n",
       "      <td>[{\"iso_639_1\": \"en\", \"name\": \"English\"}]</td>\n",
       "      <td>Released</td>\n",
       "      <td>At the end of the world, the adventure begins.</td>\n",
       "      <td>Pirates of the Caribbean: At World's End</td>\n",
       "      <td>6.9</td>\n",
       "      <td>4500</td>\n",
       "    </tr>\n",
       "  </tbody>\n",
       "</table>\n",
       "</div>"
      ],
      "text/plain": [
       "      budget                                             genres  \\\n",
       "0  237000000  [{\"id\": 28, \"name\": \"Action\"}, {\"id\": 12, \"nam...   \n",
       "1  300000000  [{\"id\": 12, \"name\": \"Adventure\"}, {\"id\": 14, \"...   \n",
       "\n",
       "                                       homepage     id  \\\n",
       "0                   http://www.avatarmovie.com/  19995   \n",
       "1  http://disney.go.com/disneypictures/pirates/    285   \n",
       "\n",
       "                                            keywords original_language  \\\n",
       "0  [{\"id\": 1463, \"name\": \"culture clash\"}, {\"id\":...                en   \n",
       "1  [{\"id\": 270, \"name\": \"ocean\"}, {\"id\": 726, \"na...                en   \n",
       "\n",
       "                             original_title  \\\n",
       "0                                    Avatar   \n",
       "1  Pirates of the Caribbean: At World's End   \n",
       "\n",
       "                                            overview  popularity  \\\n",
       "0  In the 22nd century, a paraplegic Marine is di...  150.437577   \n",
       "1  Captain Barbossa, long believed to be dead, ha...  139.082615   \n",
       "\n",
       "                                production_companies  \\\n",
       "0  [{\"name\": \"Ingenious Film Partners\", \"id\": 289...   \n",
       "1  [{\"name\": \"Walt Disney Pictures\", \"id\": 2}, {\"...   \n",
       "\n",
       "                                production_countries release_date     revenue  \\\n",
       "0  [{\"iso_3166_1\": \"US\", \"name\": \"United States o...   2009-12-10  2787965087   \n",
       "1  [{\"iso_3166_1\": \"US\", \"name\": \"United States o...   2007-05-19   961000000   \n",
       "\n",
       "   runtime                                   spoken_languages    status  \\\n",
       "0    162.0  [{\"iso_639_1\": \"en\", \"name\": \"English\"}, {\"iso...  Released   \n",
       "1    169.0           [{\"iso_639_1\": \"en\", \"name\": \"English\"}]  Released   \n",
       "\n",
       "                                          tagline  \\\n",
       "0                     Enter the World of Pandora.   \n",
       "1  At the end of the world, the adventure begins.   \n",
       "\n",
       "                                      title  vote_average  vote_count  \n",
       "0                                    Avatar           7.2       11800  \n",
       "1  Pirates of the Caribbean: At World's End           6.9        4500  "
      ]
     },
     "execution_count": 19,
     "metadata": {},
     "output_type": "execute_result"
    }
   ],
   "source": [
    "# details of data\n",
    "print(movies_df.shape)\n",
    "print(movies_df.columns)\n",
    "movies_df.head(2)\n"
   ]
  },
  {
   "cell_type": "code",
   "execution_count": 20,
   "id": "11b116ac-d553-4b81-9cfc-b743b425e683",
   "metadata": {},
   "outputs": [
    {
     "name": "stdout",
     "output_type": "stream",
     "text": [
      "(4803, 4)\n",
      "Index(['movie_id', 'title', 'cast', 'crew'], dtype='object')\n"
     ]
    },
    {
     "data": {
      "text/html": [
       "<div>\n",
       "<style scoped>\n",
       "    .dataframe tbody tr th:only-of-type {\n",
       "        vertical-align: middle;\n",
       "    }\n",
       "\n",
       "    .dataframe tbody tr th {\n",
       "        vertical-align: top;\n",
       "    }\n",
       "\n",
       "    .dataframe thead th {\n",
       "        text-align: right;\n",
       "    }\n",
       "</style>\n",
       "<table border=\"1\" class=\"dataframe\">\n",
       "  <thead>\n",
       "    <tr style=\"text-align: right;\">\n",
       "      <th></th>\n",
       "      <th>movie_id</th>\n",
       "      <th>title</th>\n",
       "      <th>cast</th>\n",
       "      <th>crew</th>\n",
       "    </tr>\n",
       "  </thead>\n",
       "  <tbody>\n",
       "    <tr>\n",
       "      <th>0</th>\n",
       "      <td>19995</td>\n",
       "      <td>Avatar</td>\n",
       "      <td>[{\"cast_id\": 242, \"character\": \"Jake Sully\", \"...</td>\n",
       "      <td>[{\"credit_id\": \"52fe48009251416c750aca23\", \"de...</td>\n",
       "    </tr>\n",
       "    <tr>\n",
       "      <th>1</th>\n",
       "      <td>285</td>\n",
       "      <td>Pirates of the Caribbean: At World's End</td>\n",
       "      <td>[{\"cast_id\": 4, \"character\": \"Captain Jack Spa...</td>\n",
       "      <td>[{\"credit_id\": \"52fe4232c3a36847f800b579\", \"de...</td>\n",
       "    </tr>\n",
       "  </tbody>\n",
       "</table>\n",
       "</div>"
      ],
      "text/plain": [
       "   movie_id                                     title  \\\n",
       "0     19995                                    Avatar   \n",
       "1       285  Pirates of the Caribbean: At World's End   \n",
       "\n",
       "                                                cast  \\\n",
       "0  [{\"cast_id\": 242, \"character\": \"Jake Sully\", \"...   \n",
       "1  [{\"cast_id\": 4, \"character\": \"Captain Jack Spa...   \n",
       "\n",
       "                                                crew  \n",
       "0  [{\"credit_id\": \"52fe48009251416c750aca23\", \"de...  \n",
       "1  [{\"credit_id\": \"52fe4232c3a36847f800b579\", \"de...  "
      ]
     },
     "execution_count": 20,
     "metadata": {},
     "output_type": "execute_result"
    }
   ],
   "source": [
    "print(credits_df.shape)\n",
    "print(credits_df.columns)\n",
    "credits_df.head(2)"
   ]
  },
  {
   "cell_type": "code",
   "execution_count": 21,
   "id": "66c9d474-0cb3-4d82-8f7f-5d6c93def05c",
   "metadata": {},
   "outputs": [],
   "source": [
    "# # Step 2: Merge on ID\n",
    "movies_df = movies_df.merge(credits_df, left_on='id', right_on='movie_id', how='left')\n",
    "\n",
    "# # Step 3: Drop redundant 'movie_id' column (post-merge cleanup)\n",
    "movies_df.drop('movie_id', axis=1, inplace=True)\n",
    "\n",
    "# Step 3: Drop redundant 'movie_id' column (post-merge cleanup)\n",
    "movies_df.drop('title_y', axis=1, inplace=True)"
   ]
  },
  {
   "cell_type": "code",
   "execution_count": 47,
   "id": "d0e35989-b2ac-4cdb-9955-9cb0b9287380",
   "metadata": {},
   "outputs": [
    {
     "name": "stdout",
     "output_type": "stream",
     "text": [
      "   movie_budget                                         genre_list  \\\n",
      "0     237000000  [{'id': 28, 'name': 'Action'}, {'id': 12, 'nam...   \n",
      "1     300000000  [{'id': 12, 'name': 'Adventure'}, {'id': 14, '...   \n",
      "2     245000000  [{'id': 28, 'name': 'Action'}, {'id': 12, 'nam...   \n",
      "3     250000000  [{'id': 28, 'name': 'Action'}, {'id': 80, 'nam...   \n",
      "\n",
      "                                 movie_homepage  movie_id  \\\n",
      "0                   http://www.avatarmovie.com/     19995   \n",
      "1  http://disney.go.com/disneypictures/pirates/       285   \n",
      "2   http://www.sonypictures.com/movies/spectre/    206647   \n",
      "3            http://www.thedarkknightrises.com/     49026   \n",
      "\n",
      "                                      movie_keywords language  \\\n",
      "0  [{'id': 1463, 'name': 'culture clash'}, {'id':...       en   \n",
      "1  [{'id': 270, 'name': 'ocean'}, {'id': 726, 'na...       en   \n",
      "2  [{'id': 470, 'name': 'spy'}, {'id': 818, 'name...       en   \n",
      "3  [{'id': 849, 'name': 'dc comics'}, {'id': 853,...       en   \n",
      "\n",
      "                             original_title  \\\n",
      "0                                    Avatar   \n",
      "1  Pirates of the Caribbean: At World's End   \n",
      "2                                   Spectre   \n",
      "3                     The Dark Knight Rises   \n",
      "\n",
      "                                      movie_overview  popularity_score  \\\n",
      "0  In the 22nd century, a paraplegic Marine is di...        150.437577   \n",
      "1  Captain Barbossa, long believed to be dead, ha...        139.082615   \n",
      "2  A cryptic message from Bond’s past sends him o...        107.376788   \n",
      "3  Following the death of District Attorney Harve...        112.312950   \n",
      "\n",
      "                                      prod_companies  ... runtime_minutes  \\\n",
      "0  [{'name': 'Ingenious Film Partners', 'id': 289...  ...           162.0   \n",
      "1  [{'name': 'Walt Disney Pictures', 'id': 2}, {'...  ...           169.0   \n",
      "2  [{'name': 'Columbia Pictures', 'id': 5}, {'nam...  ...           148.0   \n",
      "3  [{'name': 'Legendary Pictures', 'id': 923}, {'...  ...           165.0   \n",
      "\n",
      "                                        spoken_langs  release_status  \\\n",
      "0  [{'iso_639_1': 'en', 'name': 'English'}, {'iso...        Released   \n",
      "1           [{'iso_639_1': 'en', 'name': 'English'}]        Released   \n",
      "2  [{'iso_639_1': 'fr', 'name': 'Français'}, {'is...        Released   \n",
      "3           [{'iso_639_1': 'en', 'name': 'English'}]        Released   \n",
      "\n",
      "                                    movie_tagline  \\\n",
      "0                     Enter the World of Pandora.   \n",
      "1  At the end of the world, the adventure begins.   \n",
      "2                           A Plan No One Escapes   \n",
      "3                                 The Legend Ends   \n",
      "\n",
      "                                movie_title average_rating total_votes  \\\n",
      "0                                    Avatar            7.2       11800   \n",
      "1  Pirates of the Caribbean: At World's End            6.9        4500   \n",
      "2                                   Spectre            6.3        4466   \n",
      "3                     The Dark Knight Rises            7.6        9106   \n",
      "\n",
      "                                           cast_list  \\\n",
      "0  [{'cast_id': 242, 'character': 'Jake Sully', '...   \n",
      "1  [{'cast_id': 4, 'character': 'Captain Jack Spa...   \n",
      "2  [{'cast_id': 1, 'character': 'James Bond', 'cr...   \n",
      "3  [{'cast_id': 2, 'character': 'Bruce Wayne / Ba...   \n",
      "\n",
      "                                           crew_list      director_name  \n",
      "0  [{'credit_id': '52fe48009251416c750aca23', 'de...      James Cameron  \n",
      "1  [{'credit_id': '52fe4232c3a36847f800b579', 'de...     Gore Verbinski  \n",
      "2  [{'credit_id': '54805967c3a36829b5002c41', 'de...         Sam Mendes  \n",
      "3  [{'credit_id': '52fe4781c3a36847f81398c3', 'de...  Christopher Nolan  \n",
      "\n",
      "[4 rows x 23 columns]\n"
     ]
    }
   ],
   "source": [
    "print(movies_df.head(4))"
   ]
  },
  {
   "cell_type": "code",
   "execution_count": 23,
   "id": "ae808142-828e-4854-b9ae-1d32c501f0ee",
   "metadata": {},
   "outputs": [],
   "source": [
    "movies_df.rename(columns={\n",
    "    'vote_average': 'average_rating',\n",
    "    'vote_count': 'total_votes',\n",
    "    'release_date': 'released_on'\n",
    "}, inplace=True)\n"
   ]
  },
  {
   "cell_type": "code",
   "execution_count": 24,
   "id": "1ba1a23a-ee3f-4daa-a344-90c9be8a4468",
   "metadata": {},
   "outputs": [],
   "source": [
    "# Rename the columns name\n",
    "movies_df.rename(columns={\n",
    "    'budget': 'movie_budget',\n",
    "    'genres': 'genre_list',\n",
    "    'homepage': 'movie_homepage',\n",
    "    'id': 'movie_id',\n",
    "    'keywords': 'movie_keywords',\n",
    "    'original_language': 'language',\n",
    "    'overview': 'movie_overview',\n",
    "    'popularity': 'popularity_score',\n",
    "    'production_companies': 'prod_companies',\n",
    "    'production_countries': 'prod_countries',\n",
    "    'revenue': 'movie_revenue',\n",
    "    'runtime': 'runtime_minutes',\n",
    "    'spoken_languages': 'spoken_langs',\n",
    "    'status': 'release_status',\n",
    "    'tagline': 'movie_tagline',\n",
    "    'title_x': 'movie_title',\n",
    "    'vote_average': 'average_rating',\n",
    "    'vote_count': 'total_votes',\n",
    "    'cast': 'cast_list',\n",
    "    'crew': 'crew_list'\n",
    "}, inplace=True)\n"
   ]
  },
  {
   "cell_type": "code",
   "execution_count": 46,
   "id": "492f60a8-181b-4c6c-9269-fa279749b780",
   "metadata": {},
   "outputs": [
    {
     "name": "stdout",
     "output_type": "stream",
     "text": [
      "['movie_budget', 'genre_list', 'movie_homepage', 'movie_id', 'movie_keywords', 'language', 'original_title', 'movie_overview', 'popularity_score', 'prod_companies', 'prod_countries', 'released_on', 'movie_revenue', 'runtime_minutes', 'spoken_langs', 'release_status', 'movie_tagline', 'movie_title', 'average_rating', 'total_votes', 'cast_list', 'crew_list', 'director_name']\n"
     ]
    }
   ],
   "source": [
    "# movies_df.columns\n",
    "# Print all renamed column names\n",
    "print(movies_df.columns.tolist())\n"
   ]
  },
  {
   "cell_type": "code",
   "execution_count": 28,
   "id": "b59df4cc-0767-45b1-8a72-ae189526a220",
   "metadata": {},
   "outputs": [
    {
     "name": "stdout",
     "output_type": "stream",
     "text": [
      "<class 'pandas.core.frame.DataFrame'>\n",
      "RangeIndex: 4803 entries, 0 to 4802\n",
      "Data columns (total 22 columns):\n",
      " #   Column            Non-Null Count  Dtype  \n",
      "---  ------            --------------  -----  \n",
      " 0   movie_budget      4803 non-null   int64  \n",
      " 1   genre_list        4803 non-null   object \n",
      " 2   movie_homepage    1712 non-null   object \n",
      " 3   movie_id          4803 non-null   int64  \n",
      " 4   movie_keywords    4803 non-null   object \n",
      " 5   language          4803 non-null   object \n",
      " 6   original_title    4803 non-null   object \n",
      " 7   movie_overview    4800 non-null   object \n",
      " 8   popularity_score  4803 non-null   float64\n",
      " 9   prod_companies    4803 non-null   object \n",
      " 10  prod_countries    4803 non-null   object \n",
      " 11  released_on       4802 non-null   object \n",
      " 12  movie_revenue     4803 non-null   int64  \n",
      " 13  runtime_minutes   4801 non-null   float64\n",
      " 14  spoken_langs      4803 non-null   object \n",
      " 15  release_status    4803 non-null   object \n",
      " 16  movie_tagline     3959 non-null   object \n",
      " 17  movie_title       4803 non-null   object \n",
      " 18  average_rating    4803 non-null   float64\n",
      " 19  total_votes       4803 non-null   int64  \n",
      " 20  cast_list         4803 non-null   object \n",
      " 21  crew_list         4803 non-null   object \n",
      "dtypes: float64(3), int64(4), object(15)\n",
      "memory usage: 825.6+ KB\n"
     ]
    }
   ],
   "source": [
    "movies_df.info()"
   ]
  },
  {
   "cell_type": "code",
   "execution_count": 37,
   "id": "b8b7e9e0-f116-472d-9b65-caeae52388db",
   "metadata": {},
   "outputs": [],
   "source": [
    "movies_df['released_on'] = pd.to_datetime(movies_df['released_on'], errors='coerce').dt.date"
   ]
  },
  {
   "cell_type": "code",
   "execution_count": 43,
   "id": "632955c3-dd85-4f14-bf0a-0618d852eb44",
   "metadata": {},
   "outputs": [],
   "source": [
    "import json\n",
    "\n",
    "json_columns = ['genre_list', 'movie_keywords', 'cast_list', 'crew_list',\n",
    "                'prod_companies', 'prod_countries', 'spoken_langs']\n",
    "\n",
    "# for col in json_columns:\n",
    "#     movies_df[col] = movies_df[col].apply(lambda x: ast.literal_eval(x) if pd.notnull(x) else [])\n",
    "\n",
    "for col in json_columns:\n",
    "    movies_df[col] = movies_df[col].apply(lambda x: json.loads(x) if isinstance(x, str) else x)\n"
   ]
  },
  {
   "cell_type": "code",
   "execution_count": 39,
   "id": "bd7d5fdd-e341-46d7-b2fa-d780b71c39e0",
   "metadata": {},
   "outputs": [],
   "source": [
    "# Convert ratings & votes if they came as strings\n",
    "movies_df['average_rating'] = movies_df['average_rating'].astype(float)\n",
    "movies_df['total_votes'] = movies_df['total_votes'].astype(int)\n",
    "\n",
    "movies_df['movie_overview'] = movies_df['movie_overview'].fillna(\"No overview available\")\n",
    "movies_df['movie_tagline'] = movies_df['movie_tagline'].fillna(\"No tagline\")\n"
   ]
  },
  {
   "cell_type": "code",
   "execution_count": 44,
   "id": "80942618-2680-42d5-8a4f-1ea18ee50934",
   "metadata": {},
   "outputs": [],
   "source": [
    "# def get_director(crew):\n",
    "#     for member in crew:\n",
    "#         if member.get('job') == 'Director':\n",
    "#             return member.get('name')\n",
    "#     return None\n",
    "\n",
    "# movies_df['director_name'] = movies_df['crew_list'].apply(get_director)\n",
    "\n",
    "def get_director(crew):\n",
    "    if isinstance(crew, list):\n",
    "        for member in crew:\n",
    "            if isinstance(member, dict) and member.get('job') == 'Director':\n",
    "                return member.get('name')\n",
    "    return None\n",
    "\n",
    "movies_df['director_name'] = movies_df['crew_list'].apply(get_director)"
   ]
  },
  {
   "cell_type": "code",
   "execution_count": null,
   "id": "93fe6410-a1f2-4bfc-874d-3715db23f500",
   "metadata": {},
   "outputs": [],
   "source": [
    "# Replace inf and -inf with NaN\n",
    "movies_df.replace([np.inf, -np.inf], np.nan, inplace=True)\n",
    "\n",
    "# Optionally fill NaN values or drop rows with them\n",
    "movies_df = movies_df.fillna(0)  # or use movies_df.dropna()"
   ]
  },
  {
   "cell_type": "code",
   "execution_count": null,
   "id": "a4470202-b215-48c7-bf04-4383c5980eda",
   "metadata": {},
   "outputs": [],
   "source": [
    "# Save your DataFrame to CSV\n",
    "movies_df.to_csv(\"D:/data_analyst/AnalyticsProjects/projects/movie_dashboard_views/movies.csv\", index=False)"
   ]
  },
  {
   "cell_type": "code",
   "execution_count": null,
   "id": "374296c1-f0b3-40d0-88c2-14448104f634",
   "metadata": {},
   "outputs": [],
   "source": [
    "print(\"NaNs in DataFrame:\\n\", movies_df.isnull().sum())\n",
    "print(\"Has inf values:\", np.isinf(movies_df.select_dtypes(include=[np.number])).values.any())\n"
   ]
  },
  {
   "cell_type": "code",
   "execution_count": null,
   "id": "9d403113-7d30-4b37-b682-42f6a29be004",
   "metadata": {},
   "outputs": [],
   "source": [
    "if not movies_df.empty:\n",
    "    movies_df.to_sql('movies', con=engine, if_exists='replace', index=False)\n",
    "else:\n",
    "    print(\"DataFrame is empty. Nothing to upload.\")\n"
   ]
  },
  {
   "cell_type": "code",
   "execution_count": null,
   "id": "ddbf9a7e-a0f2-4332-ae30-8867dd42bc77",
   "metadata": {},
   "outputs": [],
   "source": [
    "print(movies_df[movies_df.isin([np.inf, -np.inf]).any(axis=1)])\n"
   ]
  },
  {
   "cell_type": "code",
   "execution_count": 45,
   "id": "11be33a2-d1b0-4450-8b23-89179c76977a",
   "metadata": {},
   "outputs": [
    {
     "name": "stdout",
     "output_type": "stream",
     "text": [
      "<class 'pandas.core.frame.DataFrame'>\n",
      "RangeIndex: 4803 entries, 0 to 4802\n",
      "Data columns (total 23 columns):\n",
      " #   Column            Non-Null Count  Dtype  \n",
      "---  ------            --------------  -----  \n",
      " 0   movie_budget      4803 non-null   int64  \n",
      " 1   genre_list        4803 non-null   object \n",
      " 2   movie_homepage    1712 non-null   object \n",
      " 3   movie_id          4803 non-null   int64  \n",
      " 4   movie_keywords    4803 non-null   object \n",
      " 5   language          4803 non-null   object \n",
      " 6   original_title    4803 non-null   object \n",
      " 7   movie_overview    4803 non-null   object \n",
      " 8   popularity_score  4803 non-null   float64\n",
      " 9   prod_companies    4803 non-null   object \n",
      " 10  prod_countries    4803 non-null   object \n",
      " 11  released_on       4802 non-null   object \n",
      " 12  movie_revenue     4803 non-null   int64  \n",
      " 13  runtime_minutes   4801 non-null   float64\n",
      " 14  spoken_langs      4803 non-null   object \n",
      " 15  release_status    4803 non-null   object \n",
      " 16  movie_tagline     4803 non-null   object \n",
      " 17  movie_title       4803 non-null   object \n",
      " 18  average_rating    4803 non-null   float64\n",
      " 19  total_votes       4803 non-null   int32  \n",
      " 20  cast_list         4803 non-null   object \n",
      " 21  crew_list         4803 non-null   object \n",
      " 22  director_name     4773 non-null   object \n",
      "dtypes: float64(3), int32(1), int64(3), object(16)\n",
      "memory usage: 844.4+ KB\n"
     ]
    }
   ],
   "source": [
    "movies_df.info()"
   ]
  },
  {
   "cell_type": "code",
   "execution_count": 55,
   "id": "1907aaef-7181-4452-944d-289e945ca430",
   "metadata": {},
   "outputs": [
    {
     "name": "stdout",
     "output_type": "stream",
     "text": [
      " Data uploaded successfully!\n"
     ]
    }
   ],
   "source": [
    "import pandas as pd\n",
    "from sqlalchemy import create_engine\n",
    "\n",
    "# 1. Load the CSV file\n",
    "df = pd.read_csv('D:/data_analyst/AnalyticsProjects/projects/movie_dashboard_views/movies.csv')\n",
    "\n",
    "# Optional: Clean up column names (remove spaces/special characters)\n",
    "df.columns = [col.strip().replace(' ', '_').lower() for col in df.columns]\n",
    "\n",
    "# 2. Define your MySQL connection details\n",
    "db_user = 'root'\n",
    "db_password = 'root'\n",
    "db_host = 'localhost'\n",
    "db_port = '3306'\n",
    "db_name = 'movies_reviews'\n",
    "table_name='movies'\n",
    "\n",
    "# # 3. Create SQLAlchemy connection string\n",
    "engine = create_engine(f'mysql+pymysql://{db_user}:{db_password}@{db_host}:{db_port}/{db_name}')\n",
    "\n",
    "# 4. Send data to MySQL (it will auto-create the table if not exists)\n",
    "try:\n",
    "    df.to_sql(name=table_name, con=engine, if_exists='replace', index=False)\n",
    "    print(\" Data uploaded successfully!\")\n",
    "except Exception as e:\n",
    "    print(\" Error uploading data:\", e)\n"
   ]
  }
 ],
 "metadata": {
  "kernelspec": {
   "display_name": "Python 3 (ipykernel)",
   "language": "python",
   "name": "python3"
  },
  "language_info": {
   "codemirror_mode": {
    "name": "ipython",
    "version": 3
   },
   "file_extension": ".py",
   "mimetype": "text/x-python",
   "name": "python",
   "nbconvert_exporter": "python",
   "pygments_lexer": "ipython3",
   "version": "3.12.3"
  }
 },
 "nbformat": 4,
 "nbformat_minor": 5
}
